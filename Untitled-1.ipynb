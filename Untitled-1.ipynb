{
 "cells": [
  {
   "cell_type": "code",
   "execution_count": null,
   "metadata": {},
   "outputs": [],
   "source": [
    "from roboflow import Roboflow\n",
    "rf = Roboflow(api_key=\"AmwVDvOJyHJXJ8XErKQx\")\n",
    "project = rf.workspace(\"new-workspace-x0ijl\").project(\"animal-detection-dy7jy\")\n",
    "dataset = project.version(1).download(\"yolov5\")"
   ]
  }
 ],
 "metadata": {
  "language_info": {
   "name": "python"
  }
 },
 "nbformat": 4,
 "nbformat_minor": 2
}
